{
 "cells": [
  {
   "cell_type": "code",
   "execution_count": null,
   "metadata": {
    "collapsed": true
   },
   "outputs": [],
   "source": [
    "# fix random seed for reproducibility\n",
    "np.random.seed(7)\n",
    "\n",
    "# load the dataset\n",
    "symbols = ['^FCHI','^FTSE','^GDAXI','XOM','GE','MSFT','PG','JNJ','^DJI','^IXIC']\n",
    "\n",
    "data1 = pd.DataFrame()\n",
    "for sym in symbols:\n",
    "    data1[sym] = web.DataReader(sym, data_source='yahoo',\n",
    "        start='1/1/2009', end='4/1/2017')['Adj Close']    # this format for dates needed, other functions may use '01-01-2006'\n",
    "    data1 = data1.fillna(np.mean(data1.ix[:]))\n",
    "    data1 =data1.astype('float32')\n",
    "\n",
    "#Dealing with Missing data \n",
    "for i in data1.ix[:]:\n",
    "    ndata1=np.where(data1==0, np.mean(data1.ix[:]),data1) #the average stock price or average currency price was substituted into the missing data respectively\n",
    "    rows=[a for a in range(1,(len(data1)+1))]\n",
    "data1=pd.DataFrame(ndata1,rows,columns=['^FCHI','^FTSE','^GDAXI','XOM','GE','MSFT','PG','JNJ','^DJI','^IXIC'])\n",
    "\n",
    "data1 = data1.drop(data1.index[[2110,2111,2112,2113,2114]])\n",
    "\n",
    "# load the dataset\n",
    "symbols = ['^FCHI','^FTSE','^GDAXI','XOM','GE','MSFT','PG','JNJ','^DJI','^IXIC','SPY']\n",
    "#symbols = ['SPY']\n",
    "data = pd.DataFrame()\n",
    "for sym in symbols:\n",
    "    data[sym] = web.DataReader(sym, data_source='yahoo',\n",
    "        start='1/3/2009', end='4/3/2017')['Adj Close']    # this format for dates needed, other functions may use '01-01-2006'\n",
    "    data = data.fillna(np.mean(data.ix[:]))\n",
    "    data=data.astype('float32')\n",
    "\n",
    "#Dealing with Missing data \n",
    "for i in data.ix[:]:\n",
    "    ndata=np.where(data==0, np.mean(data.ix[:]),data) #the average stock price or average currency price was substituted into the missing data respectively\n",
    "    rows=[a for a in range(1,(len(data)+1))]\n",
    "data=pd.DataFrame(ndata,rows,columns=['^FCHI','^FTSE','^GDAXI','XOM','GE','MSFT','PG','JNJ','^DJI','^IXIC','SPY'])\n",
    "\n",
    "\n",
    "#SPY dataset only\n",
    "dataset = pd.DataFrame(data['SPY'])\n",
    "dataset = dataset.ix[:,['SPY']].values\n",
    "\n",
    "# convert an array of values into a dataset matrix at time t,t-1,t-2...\n",
    "def create_dataset(dataset, timestep):\n",
    "    dataX, dataY = [], []\n",
    "    for i in range(len(dataset)-timestep-1):\n",
    "        a = dataset[i:(i+timestep), 0]\n",
    "        dataX.append(a)\n",
    "        dataY.append(dataset[i + timestep, 0])\n",
    "    return np.array(dataX), np.array(dataY)\n",
    "\n",
    "#SPY value in the previous three days\n",
    "dataset = create_dataset(dataset,4)[0]\n",
    "dataset = pd.DataFrame(dataset)\n",
    "dataset.columns = ['SPY_t','SPYt-1','SPYt-2','SPYt-3']\n",
    "#dataset = dataset.drop(dataset.columns[[0]],axis=1)\n",
    "\n",
    "#concatenate the datasets\n",
    "features = np.concatenate((dataset,data1), axis=1)\n",
    "features = pd.DataFrame(features)\n",
    "features.columns = ['SPY','SPYt-1','SPYt-2','SPYt-3','^FCHI','^FTSE','^GDAXI','XOM','GE','MSFT','PG','JNJ','^DJI','^IXIC']\n",
    "\n",
    "#saving the data frame as csv file\n",
    "features.to_csv('features.csv')"
   ]
  }
 ],
 "metadata": {
  "kernelspec": {
   "display_name": "Python 3",
   "language": "python",
   "name": "python3"
  },
  "language_info": {
   "codemirror_mode": {
    "name": "ipython",
    "version": 3
   },
   "file_extension": ".py",
   "mimetype": "text/x-python",
   "name": "python",
   "nbconvert_exporter": "python",
   "pygments_lexer": "ipython3",
   "version": "3.4.3"
  }
 },
 "nbformat": 4,
 "nbformat_minor": 2
}
